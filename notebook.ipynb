{
 "cells": [
  {
   "cell_type": "code",
   "execution_count": 196,
   "metadata": {},
   "outputs": [],
   "source": [
    "import pandas as pd\n",
    "import seaborn as sns\n",
    "import matplotlib.pyplot as plt\n",
    "import swifter\n",
    "pd.set_option('display.max_columns', None)"
   ]
  },
  {
   "cell_type": "code",
   "execution_count": 197,
   "metadata": {},
   "outputs": [
    {
     "name": "stderr",
     "output_type": "stream",
     "text": [
      "/tmp/ipykernel_14746/1304735388.py:3: DtypeWarning: Columns (3) have mixed types. Specify dtype option on import or set low_memory=False.\n",
      "  reviews = pd.read_csv('./reviews.csv')\n",
      "/tmp/ipykernel_14746/1304735388.py:5: ParserWarning: Falling back to the 'python' engine because the 'c' engine does not support regex separators (separators > 1 char and different from '\\s+' are interpreted as regex); you can avoid this warning by specifying engine='python'.\n",
      "  classify_diet = pd.read_csv('./classify_diet.csv', sep=':;')\n"
     ]
    }
   ],
   "source": [
    "recipes = pd.read_csv('./recipes.csv')\n",
    "requests = pd.read_csv('./requests.csv')\n",
    "reviews = pd.read_csv('./reviews.csv')\n",
    "diet = pd.read_csv('./diet.csv')\n",
    "classify_diet = pd.read_csv('./classify_diet.csv', sep=':;')"
   ]
  },
  {
   "cell_type": "code",
   "execution_count": 198,
   "metadata": {},
   "outputs": [
    {
     "name": "stdout",
     "output_type": "stream",
     "text": [
      "75604\n"
     ]
    },
    {
     "data": {
      "application/vnd.jupyter.widget-view+json": {
       "model_id": "6cf8aeda133546b48970115bab41c9bd",
       "version_major": 2,
       "version_minor": 0
      },
      "text/plain": [
       "Dask Apply:   0%|          | 0/32 [00:00<?, ?it/s]"
      ]
     },
     "metadata": {},
     "output_type": "display_data"
    },
    {
     "data": {
      "text/plain": [
       "0        [Vegan, Vegan, Vegan, Vegan, Vegan, Vegan, Veg...\n",
       "1        [Vegetarian, Vegetarian, Vegetarian, Vegetaria...\n",
       "2        [Omnivore, Vegetarian, Vegetarian, Vegan, Vege...\n",
       "3        [Vegetarian, Vegetarian, Vegetarian, Vegetaria...\n",
       "4        [Vegan, Vegan, Vegetarian, Vegan, Vegan, Vegan...\n",
       "                               ...                        \n",
       "75599    [Vegetarian, Vegan, Vegan, Vegetarian, Vegan, ...\n",
       "75600    [Vegetarian, Vegan, Vegan, Vegetarian, Vegan, ...\n",
       "75601    [Omnivore, Vegetarian, Vegetarian, Vegetarian,...\n",
       "75602                                       [Vegan, Vegan]\n",
       "75603    [Vegan, Vegan, Vegan, Vegetarian, Vegan, Veget...\n",
       "Name: DietIngredient, Length: 75604, dtype: object"
      ]
     },
     "execution_count": 198,
     "metadata": {},
     "output_type": "execute_result"
    }
   ],
   "source": [
    "recipes['RecipeIngredientParts'] = recipes['RecipeIngredientParts'].apply(lambda x: x.replace('\\\\','').replace('\"','').replace('c(', '').replace(')','').replace('(',''))\n",
    "recipes['RecipeIngredientQuantities'] = recipes['RecipeIngredientQuantities'].apply(lambda x: x.replace('\\\\','').replace('\"','').replace('c(', '').replace(')','').replace('(',''))\n",
    "\n",
    "def func(x):\n",
    "    res = []\n",
    "    for y in x.split(','):\n",
    "        y = y.strip().lower().replace('-',' ')\n",
    "        found = classify_diet.loc[classify_diet['Ingredient'] == y]['Diet'].values\n",
    "        if len(found) == 0:\n",
    "            print(y)\n",
    "            continue\n",
    "        else:\n",
    "            res.append(found[0])\n",
    "    return res\n",
    "\n",
    "# add meal type\n",
    "classify_diet['Ingredient'] = classify_diet['Ingredient'].str.lower().str.strip().str.replace('(', '').str.replace(')', '').replace('-',' ')\n",
    "recipes['RecipeIngredientParts'] = recipes['RecipeIngredientParts'].str.lower().str.strip().replace('-',' ')\n",
    "\n",
    "#classify_diet\n",
    "print(len(recipes))\n",
    "recipes['DietIngredient'] = recipes['RecipeIngredientParts'].swifter.allow_dask_on_strings(enable=True).apply(func)\n",
    "\n",
    "recipes['DietIngredient']"
   ]
  },
  {
   "cell_type": "code",
   "execution_count": 199,
   "metadata": {},
   "outputs": [
    {
     "data": {
      "text/plain": [
       "0        Vegetarian\n",
       "1        Vegetarian\n",
       "2          Omnivore\n",
       "3          Omnivore\n",
       "4        Vegetarian\n",
       "            ...    \n",
       "75599    Vegetarian\n",
       "75600      Omnivore\n",
       "75601      Omnivore\n",
       "75602         Vegan\n",
       "75603    Vegetarian\n",
       "Name: DietRecipe, Length: 75604, dtype: object"
      ]
     },
     "execution_count": 199,
     "metadata": {},
     "output_type": "execute_result"
    }
   ],
   "source": [
    "def decideDiet(x):\n",
    "    if list(set(x)) == list(['Vegan']):\n",
    "        return 'Vegan'\n",
    "    if list(set(x)) == list(['Vegetarian']) or list(set(x)) == list(['Vegan', 'Vegetarian']):\n",
    "        return 'Vegetarian'\n",
    "    return 'Omnivore'\n",
    "\n",
    "\n",
    "recipes['DietRecipe'] = recipes['DietIngredient'].apply(decideDiet)\n",
    "recipes['DietRecipe']"
   ]
  },
  {
   "cell_type": "code",
   "execution_count": 200,
   "metadata": {},
   "outputs": [],
   "source": [
    "# join recipes and requests\n",
    "joined = recipes.merge(reviews, on='RecipeId', how='inner')\n",
    "\n",
    "# join with diet\n",
    "joined = joined.merge(diet, on='AuthorId', how='inner')\n",
    "\n",
    "# join with requests\n",
    "all = joined.merge(requests, on=['RecipeId', 'AuthorId'], how='inner')"
   ]
  },
  {
   "cell_type": "code",
   "execution_count": 201,
   "metadata": {},
   "outputs": [],
   "source": [
    "mapping = {\n",
    "    'RecipeCategory': 'string',\n",
    "    'RecipeIngredientQuantities': 'string',\n",
    "    'RecipeIngredientParts': 'string',\n",
    "    'Name': 'string',\n",
    "    'AuthorId': 'string',\n",
    "    'Like': 'bool',\n",
    "    'Diet': 'string',\n",
    "    'HighCalories': 'bool',\n",
    "    'HighProtein': 'string',\n",
    "    'LowFat': 'bool',\n",
    "    'LowSugar': 'string',\n",
    "    'HighFiber': 'bool'\n",
    "    \n",
    "}\n",
    "df = all.astype(mapping)"
   ]
  },
  {
   "cell_type": "code",
   "execution_count": 202,
   "metadata": {},
   "outputs": [],
   "source": [
    "# add feature Rated\n",
    "df['Rated'] = df['Rating'].apply(lambda x: True if x > 0 else False)\n",
    "\n",
    "# HighProtein and LowSugar have only two values\n",
    "mapping = {\n",
    "    'HighProtein': 'bool',\n",
    "    'LowSugar': 'bool',\n",
    "}\n",
    "df = df.astype(mapping)\n",
    "\n",
    "# add feature MatchesDiet and DietCompatible\n",
    "def dietComatible(row):\n",
    "    diet = row['Diet']\n",
    "    diet_recipe = row['DietRecipe']\n",
    "    if diet == 'Vegan':\n",
    "        return diet_recipe == 'Vegan'\n",
    "    if diet == 'Vegetarian':\n",
    "        return (diet_recipe == 'Vegan' or diet_recipe == 'Vegetarian')\n",
    "    return True\n",
    "df['MatchesDiet'] = df['Diet'] == df['DietRecipe']\n",
    "df['DietCompatible'] = df.apply(dietComatible, axis=1)\n"
   ]
  },
  {
   "cell_type": "code",
   "execution_count": 203,
   "metadata": {},
   "outputs": [
    {
     "name": "stdout",
     "output_type": "stream",
     "text": [
      "Like\n",
      "False    84503\n",
      "True     55692\n",
      "dtype: int64\n"
     ]
    }
   ],
   "source": [
    "print(df.groupby(\"Like\").size())"
   ]
  },
  {
   "cell_type": "code",
   "execution_count": 204,
   "metadata": {},
   "outputs": [],
   "source": [
    "def boxplot(column):\n",
    "    sns.boxplot(data=df,x=df[f\"{column}\"])\n",
    "    plt.show()\n",
    "\n",
    "cols = ['Age', 'CookTime', 'PrepTime', 'Calories', 'FatContent', 'SaturatedFatContent', 'CarbohydrateContent', 'FiberContent', \n",
    "        'SugarContent', 'ProteinContent', 'SodiumContent', 'CholesterolContent']\n",
    "\n",
    "#for col in cols:\n",
    "    #boxplot(col)"
   ]
  },
  {
   "cell_type": "code",
   "execution_count": 205,
   "metadata": {},
   "outputs": [],
   "source": [
    "mapping = {\n",
    "    'Diet': 'category',\n",
    "    'DietRecipe': 'category',\n",
    "    'RecipeCategory': 'category',\n",
    "    'DietCompatible': 'bool',\n",
    "    'MatchesDiet': 'bool',\n",
    "}\n",
    "df = df.astype(mapping)\n",
    "df = pd.get_dummies(df, columns=['Diet', 'DietRecipe', 'RecipeCategory'])"
   ]
  },
  {
   "cell_type": "code",
   "execution_count": 206,
   "metadata": {},
   "outputs": [
    {
     "data": {
      "application/vnd.jupyter.widget-view+json": {
       "model_id": "b8aaeaa654e442edba356a3c93f5ce68",
       "version_major": 2,
       "version_minor": 0
      },
      "text/plain": [
       "Dask Apply:   0%|          | 0/32 [00:00<?, ?it/s]"
      ]
     },
     "metadata": {},
     "output_type": "display_data"
    }
   ],
   "source": [
    "import math\n",
    "import numpy as np\n",
    "df['RecipeServings'].fillna(1, inplace=True)\n",
    "\n",
    "df['TimePerServing'] = df['CookTime'] / df['RecipeServings']\n",
    "df['TotalTime'] = df['CookTime'] + df['PrepTime']\n",
    "df['TotalTimePerServing'] =  df['TotalTime'] / df['RecipeServings']\n",
    "df['CaloriesPerServing'] = df['Calories'] / df['RecipeServings']\n",
    "df['ProteinFatRatio'] = df['ProteinContent'] / (df['FatContent']+0.000001)\n",
    "df['RequestedTimeRatio'] = df['Time'] / (df['TotalTime']+0.000001)\n",
    "\n",
    "df['isInTime'] = df['TotalTime'] <= df['Time']\n",
    "\n",
    "df['NumberIngredients'] = df['RecipeIngredientParts'].apply(lambda x: len(x.split(',')))\n",
    "\n",
    "def getRecipePopularity(row):\n",
    "    recipe_id = row['RecipeId']\n",
    "    return len(df.loc[(df['RecipeId'] == recipe_id) & (df['Like'] == True)])\n",
    "\n",
    "df['RecipePopularity'] = df.swifter.allow_dask_on_strings(enable=True).apply(getRecipePopularity, axis=1)\n",
    "df['RecipePopularity'].fillna(0, inplace=True)\n"
   ]
  },
  {
   "cell_type": "code",
   "execution_count": 207,
   "metadata": {},
   "outputs": [
    {
     "data": {
      "application/vnd.jupyter.widget-view+json": {
       "model_id": "73478c8c857b49e88d77d827d89f94b5",
       "version_major": 2,
       "version_minor": 0
      },
      "text/plain": [
       "Dask Apply:   0%|          | 0/32 [00:00<?, ?it/s]"
      ]
     },
     "metadata": {},
     "output_type": "display_data"
    },
    {
     "data": {
      "text/plain": [
       "0         0.422018\n",
       "1         1.000000\n",
       "2         0.422018\n",
       "3         0.363636\n",
       "4         0.422018\n",
       "            ...   \n",
       "140190    1.000000\n",
       "140191    1.000000\n",
       "140192    1.000000\n",
       "140193    1.000000\n",
       "140194    1.000000\n",
       "Name: AvgRecipePopularity, Length: 140195, dtype: float64"
      ]
     },
     "execution_count": 207,
     "metadata": {},
     "output_type": "execute_result"
    }
   ],
   "source": [
    "df['AvgRecipePopularity'] = df.swifter.allow_dask_on_strings(enable=True).apply(lambda row: row['RecipePopularity'] / len(df.loc[df['RecipeId'] == row['RecipeId']]), axis=1)\n",
    "df['AvgRecipePopularity']"
   ]
  },
  {
   "cell_type": "code",
   "execution_count": 209,
   "metadata": {},
   "outputs": [],
   "source": [
    "bins = [0, 18, 24, 34, 44, 54, 64, 100]\n",
    "labels = ['0-18', '19-24', '25-34', '35-44', '45-54', '55-64', '65+']\n",
    "df['AgeGroup'] = pd.cut(df['Age'], bins=bins, labels=labels, include_lowest=True)\n",
    "df = pd.get_dummies(df, columns=['AgeGroup'])\n",
    "\n",
    "#df['TimePerServing']\n"
   ]
  },
  {
   "cell_type": "markdown",
   "metadata": {},
   "source": [
    "Until here all feature engineering stuff must be done"
   ]
  },
  {
   "cell_type": "markdown",
   "metadata": {},
   "source": [
    "We can see some outlier which we will remove"
   ]
  },
  {
   "cell_type": "code",
   "execution_count": 210,
   "metadata": {},
   "outputs": [
    {
     "name": "stdout",
     "output_type": "stream",
     "text": [
      "['RecipeId', 'Name', 'CookTime', 'PrepTime', 'RecipeIngredientQuantities', 'RecipeIngredientParts', 'Calories', 'FatContent', 'SaturatedFatContent', 'CholesterolContent', 'SodiumContent', 'CarbohydrateContent', 'FiberContent', 'SugarContent', 'ProteinContent', 'RecipeServings', 'RecipeYield', 'DietIngredient', 'AuthorId', 'Rating', 'Like', 'TestSetId', 'Age', 'Time', 'HighCalories', 'HighProtein', 'LowFat', 'LowSugar', 'HighFiber', 'Rated', 'MatchesDiet', 'DietCompatible', 'Diet_Omnivore', 'Diet_Vegan', 'Diet_Vegetarian', 'DietRecipe_Omnivore', 'DietRecipe_Vegan', 'DietRecipe_Vegetarian', 'RecipeCategory_Beverages', 'RecipeCategory_Bread', 'RecipeCategory_Breakfast', 'RecipeCategory_Lunch', 'RecipeCategory_One dish meal', 'RecipeCategory_Other', 'RecipeCategory_Soup', 'TimePerServing', 'TotalTime', 'TotalTimePerServing', 'CaloriesPerServing', 'ProteinFatRatio', 'RequestedTimeRatio', 'NumberIngredients', 'RecipePopularity', 'AvgRecipePopularity', 'isInTime', 'AgeGroup_0-18', 'AgeGroup_19-24', 'AgeGroup_25-34', 'AgeGroup_35-44', 'AgeGroup_45-54', 'AgeGroup_55-64', 'AgeGroup_65+']\n"
     ]
    }
   ],
   "source": [
    "# takes around 3 minutes\n",
    "print(list(df))\n",
    "from sklearn.neighbors import LocalOutlierFactor\n",
    "from sklearn.preprocessing import StandardScaler, MinMaxScaler\n",
    "\n",
    "numeric_cols = ['Age', 'CookTime', 'PrepTime', 'Calories', 'FatContent', 'SaturatedFatContent', 'CarbohydrateContent', 'FiberContent', \n",
    "        'SugarContent', 'ProteinContent', 'SodiumContent', 'CholesterolContent', 'TimePerServing','TotalTime','TotalTimePerServing','CaloriesPerServing', 'ProteinFatRatio'\n",
    "        , 'RequestedTimeRatio', 'NumberIngredients']\n",
    "df_lof = df[numeric_cols]\n",
    "\n",
    "scaler = MinMaxScaler()\n",
    "df_lof = scaler.fit_transform(df_lof)\n",
    "\n",
    "clf = LocalOutlierFactor(n_neighbors=20)\n",
    "y_pred = clf.fit_predict(df_lof)\n",
    "X_scores = clf.negative_outlier_factor_\n",
    "\n",
    "df['Outlier'] = X_scores"
   ]
  },
  {
   "cell_type": "code",
   "execution_count": 211,
   "metadata": {},
   "outputs": [
    {
     "name": "stdout",
     "output_type": "stream",
     "text": [
      "97381\n",
      "42814\n"
     ]
    }
   ],
   "source": [
    "train_all = df[df['TestSetId'].isna()]\n",
    "test = df[df['TestSetId'].notna()]\n",
    "print(len(train_all))\n",
    "print(len(test))"
   ]
  },
  {
   "cell_type": "code",
   "execution_count": 212,
   "metadata": {},
   "outputs": [
    {
     "name": "stdout",
     "output_type": "stream",
     "text": [
      "52\n"
     ]
    },
    {
     "data": {
      "text/plain": [
       "<StringArray>\n",
       "[                                  \"Kit's Chocolate Mousse\",\n",
       "                           'Korean Vinegar Sauce Seasoning',\n",
       "                                             'Dill Pickles',\n",
       "                                         '110 in the Shade',\n",
       "                                       'Italian Cheesecake',\n",
       "                                           'Cheese Souffle',\n",
       "                                  'Peach Walnut Spice Cake',\n",
       "                                              'Spiced Beef',\n",
       "                \"Grandpa Rowand's Canadian Pickles (Sweet)\",\n",
       "                                           'Sprouted Bread',\n",
       "                        'Chocolate Chip Cheesecake Supreme',\n",
       "               'Margarita Jello Shots of the Jello Masters',\n",
       "                              'Slow Cooked Beef Stroganoff',\n",
       "              'Japanese Ponzu Sauce - Vegetarian Variation',\n",
       "                     'Spicy Thai Dipping Sauce (Nuoc Cham)',\n",
       "                                'Pineapple Infused Tequila',\n",
       "              'Homemade Smoked Pork Sausages With Vinegar.',\n",
       "                                      'Beef with Hot Sauce',\n",
       "                                        'Ice-Water Pickles',\n",
       "                               'Tempting Trifle Cheesecake',\n",
       "                                'Real &quot; Jell-O &quot;',\n",
       "                          'Black Currant Schnapps - Sweden',\n",
       "                                       'Luau Pork Teriyaki',\n",
       "                                  \"Dog's Nose a la Dickens\",\n",
       "                                 'Stuffed Mexican Meatloaf',\n",
       "                               'Nutty Chocolate Mint Fudge',\n",
       "                                 'Baked Vanilla Cheesecake',\n",
       "                                        'Italian Mint Lamb',\n",
       "                               'Light, Cool &amp; Easy Pie',\n",
       "                                        'Christmas Morning',\n",
       "                                        'Alaskan Blue Stew',\n",
       "                              'Teriyaki Sauce and Marinade',\n",
       "                                   'Tomato Soup in a Hurry',\n",
       " 'Uberbackener Spinat Mit Kase (Baked Spinach with Cheese)',\n",
       "                                         'Iced Tea Granita',\n",
       "                                         'Beer Jello Shots',\n",
       "                'Snails Cauderan / Escargots a la Cauderan',\n",
       "                           'Vietnamese Spicy Dipping Sauce',\n",
       "                            'White Meringue Hanging Ghosts',\n",
       "                                           'Yakitori Sauce',\n",
       "                                         'Vodka Watermelon',\n",
       "                               \"Mom's Christmas Wine Jello\",\n",
       "                             \"Frances Cook's Bread & Rolls\",\n",
       "                                         'Tomato Mock-Tail']\n",
       "Length: 44, dtype: string"
      ]
     },
     "execution_count": 212,
     "metadata": {},
     "output_type": "execute_result"
    }
   ],
   "source": [
    "threshold = -12\n",
    "outlier = train_all[train_all['Outlier'] < threshold]\n",
    "print(len(outlier))\n",
    "outlier['Name'].unique()"
   ]
  },
  {
   "cell_type": "code",
   "execution_count": 213,
   "metadata": {},
   "outputs": [
    {
     "name": "stdout",
     "output_type": "stream",
     "text": [
      "97329\n"
     ]
    },
    {
     "data": {
      "text/html": [
       "<div>\n",
       "<style scoped>\n",
       "    .dataframe tbody tr th:only-of-type {\n",
       "        vertical-align: middle;\n",
       "    }\n",
       "\n",
       "    .dataframe tbody tr th {\n",
       "        vertical-align: top;\n",
       "    }\n",
       "\n",
       "    .dataframe thead th {\n",
       "        text-align: right;\n",
       "    }\n",
       "</style>\n",
       "<table border=\"1\" class=\"dataframe\">\n",
       "  <thead>\n",
       "    <tr style=\"text-align: right;\">\n",
       "      <th></th>\n",
       "      <th>RecipeId</th>\n",
       "      <th>Name</th>\n",
       "      <th>CookTime</th>\n",
       "      <th>PrepTime</th>\n",
       "      <th>RecipeIngredientQuantities</th>\n",
       "      <th>RecipeIngredientParts</th>\n",
       "      <th>Calories</th>\n",
       "      <th>FatContent</th>\n",
       "      <th>SaturatedFatContent</th>\n",
       "      <th>CholesterolContent</th>\n",
       "      <th>SodiumContent</th>\n",
       "      <th>CarbohydrateContent</th>\n",
       "      <th>FiberContent</th>\n",
       "      <th>SugarContent</th>\n",
       "      <th>ProteinContent</th>\n",
       "      <th>RecipeServings</th>\n",
       "      <th>RecipeYield</th>\n",
       "      <th>DietIngredient</th>\n",
       "      <th>AuthorId</th>\n",
       "      <th>Rating</th>\n",
       "      <th>Like</th>\n",
       "      <th>TestSetId</th>\n",
       "      <th>Age</th>\n",
       "      <th>Time</th>\n",
       "      <th>HighCalories</th>\n",
       "      <th>HighProtein</th>\n",
       "      <th>LowFat</th>\n",
       "      <th>LowSugar</th>\n",
       "      <th>HighFiber</th>\n",
       "      <th>Rated</th>\n",
       "      <th>MatchesDiet</th>\n",
       "      <th>DietCompatible</th>\n",
       "      <th>Diet_Omnivore</th>\n",
       "      <th>Diet_Vegan</th>\n",
       "      <th>Diet_Vegetarian</th>\n",
       "      <th>DietRecipe_Omnivore</th>\n",
       "      <th>DietRecipe_Vegan</th>\n",
       "      <th>DietRecipe_Vegetarian</th>\n",
       "      <th>RecipeCategory_Beverages</th>\n",
       "      <th>RecipeCategory_Bread</th>\n",
       "      <th>RecipeCategory_Breakfast</th>\n",
       "      <th>RecipeCategory_Lunch</th>\n",
       "      <th>RecipeCategory_One dish meal</th>\n",
       "      <th>RecipeCategory_Other</th>\n",
       "      <th>RecipeCategory_Soup</th>\n",
       "      <th>TimePerServing</th>\n",
       "      <th>TotalTime</th>\n",
       "      <th>TotalTimePerServing</th>\n",
       "      <th>CaloriesPerServing</th>\n",
       "      <th>ProteinFatRatio</th>\n",
       "      <th>RequestedTimeRatio</th>\n",
       "      <th>NumberIngredients</th>\n",
       "      <th>RecipePopularity</th>\n",
       "      <th>AvgRecipePopularity</th>\n",
       "      <th>isInTime</th>\n",
       "      <th>AgeGroup_0-18</th>\n",
       "      <th>AgeGroup_19-24</th>\n",
       "      <th>AgeGroup_25-34</th>\n",
       "      <th>AgeGroup_35-44</th>\n",
       "      <th>AgeGroup_45-54</th>\n",
       "      <th>AgeGroup_55-64</th>\n",
       "      <th>AgeGroup_65+</th>\n",
       "      <th>Outlier</th>\n",
       "    </tr>\n",
       "  </thead>\n",
       "  <tbody>\n",
       "    <tr>\n",
       "      <th>163</th>\n",
       "      <td>73440</td>\n",
       "      <td>Bow Ties With Broccoli Pesto</td>\n",
       "      <td>0</td>\n",
       "      <td>1800</td>\n",
       "      <td>6, 2, 1 1/2, 1/4, 1/2, 4, 1 1/2, 1 1/2, 5, 12</td>\n",
       "      <td>hazelnuts, broccoli florets, fresh parsley lea...</td>\n",
       "      <td>241.3</td>\n",
       "      <td>10.1</td>\n",
       "      <td>1.2</td>\n",
       "      <td>0.0</td>\n",
       "      <td>13.1</td>\n",
       "      <td>31.8</td>\n",
       "      <td>2.3</td>\n",
       "      <td>1.4</td>\n",
       "      <td>6.7</td>\n",
       "      <td>9.0</td>\n",
       "      <td>NaN</td>\n",
       "      <td>[Vegan, Vegan, Vegan, Vegan, Vegan, Vegan, Veg...</td>\n",
       "      <td>1073154D</td>\n",
       "      <td>2.0</td>\n",
       "      <td>False</td>\n",
       "      <td>NaN</td>\n",
       "      <td>59</td>\n",
       "      <td>1799.844169</td>\n",
       "      <td>False</td>\n",
       "      <td>True</td>\n",
       "      <td>True</td>\n",
       "      <td>True</td>\n",
       "      <td>True</td>\n",
       "      <td>True</td>\n",
       "      <td>True</td>\n",
       "      <td>True</td>\n",
       "      <td>0</td>\n",
       "      <td>0</td>\n",
       "      <td>1</td>\n",
       "      <td>0</td>\n",
       "      <td>0</td>\n",
       "      <td>1</td>\n",
       "      <td>0</td>\n",
       "      <td>0</td>\n",
       "      <td>0</td>\n",
       "      <td>0</td>\n",
       "      <td>0</td>\n",
       "      <td>1</td>\n",
       "      <td>0</td>\n",
       "      <td>0.0</td>\n",
       "      <td>1800</td>\n",
       "      <td>200.0</td>\n",
       "      <td>26.811111</td>\n",
       "      <td>0.663366</td>\n",
       "      <td>0.999913</td>\n",
       "      <td>10</td>\n",
       "      <td>46</td>\n",
       "      <td>0.422018</td>\n",
       "      <td>False</td>\n",
       "      <td>0</td>\n",
       "      <td>0</td>\n",
       "      <td>0</td>\n",
       "      <td>0</td>\n",
       "      <td>0</td>\n",
       "      <td>1</td>\n",
       "      <td>0</td>\n",
       "      <td>-0.996857</td>\n",
       "    </tr>\n",
       "    <tr>\n",
       "      <th>164</th>\n",
       "      <td>214973</td>\n",
       "      <td>Carne Guisada (Stewed Beef)</td>\n",
       "      <td>3000</td>\n",
       "      <td>1200</td>\n",
       "      <td>2, 1, 1, 2, 1, 1, 1, 1, 1, 1, 2, 1, 2, 1</td>\n",
       "      <td>beef round steak, onion, green pepper, garlic ...</td>\n",
       "      <td>331.6</td>\n",
       "      <td>18.9</td>\n",
       "      <td>6.2</td>\n",
       "      <td>92.3</td>\n",
       "      <td>235.8</td>\n",
       "      <td>5.7</td>\n",
       "      <td>1.4</td>\n",
       "      <td>2.6</td>\n",
       "      <td>33.4</td>\n",
       "      <td>1.0</td>\n",
       "      <td>NaN</td>\n",
       "      <td>[Omnivore, Vegetarian, Vegetarian, Vegan, Vege...</td>\n",
       "      <td>1073154D</td>\n",
       "      <td>2.0</td>\n",
       "      <td>False</td>\n",
       "      <td>NaN</td>\n",
       "      <td>59</td>\n",
       "      <td>4200.065436</td>\n",
       "      <td>True</td>\n",
       "      <td>True</td>\n",
       "      <td>False</td>\n",
       "      <td>True</td>\n",
       "      <td>False</td>\n",
       "      <td>True</td>\n",
       "      <td>False</td>\n",
       "      <td>False</td>\n",
       "      <td>0</td>\n",
       "      <td>0</td>\n",
       "      <td>1</td>\n",
       "      <td>1</td>\n",
       "      <td>0</td>\n",
       "      <td>0</td>\n",
       "      <td>0</td>\n",
       "      <td>0</td>\n",
       "      <td>0</td>\n",
       "      <td>0</td>\n",
       "      <td>0</td>\n",
       "      <td>1</td>\n",
       "      <td>0</td>\n",
       "      <td>3000.0</td>\n",
       "      <td>4200</td>\n",
       "      <td>4200.0</td>\n",
       "      <td>331.600000</td>\n",
       "      <td>1.767196</td>\n",
       "      <td>1.000016</td>\n",
       "      <td>13</td>\n",
       "      <td>1</td>\n",
       "      <td>0.500000</td>\n",
       "      <td>True</td>\n",
       "      <td>0</td>\n",
       "      <td>0</td>\n",
       "      <td>0</td>\n",
       "      <td>0</td>\n",
       "      <td>0</td>\n",
       "      <td>1</td>\n",
       "      <td>0</td>\n",
       "      <td>-1.033010</td>\n",
       "    </tr>\n",
       "    <tr>\n",
       "      <th>165</th>\n",
       "      <td>87925</td>\n",
       "      <td>Veggie Puff Pastries</td>\n",
       "      <td>2400</td>\n",
       "      <td>1500</td>\n",
       "      <td>1, 1, 1/2, 3 1/2, 2, 1, 1, 2, 1, 1, 1</td>\n",
       "      <td>puff pastry, egg, sweet potato, asparagus spea...</td>\n",
       "      <td>775.0</td>\n",
       "      <td>50.4</td>\n",
       "      <td>15.0</td>\n",
       "      <td>68.1</td>\n",
       "      <td>405.1</td>\n",
       "      <td>69.8</td>\n",
       "      <td>5.0</td>\n",
       "      <td>6.1</td>\n",
       "      <td>12.1</td>\n",
       "      <td>4.0</td>\n",
       "      <td>NaN</td>\n",
       "      <td>[Vegetarian, Omnivore, Vegan, Vegan, Vegetaria...</td>\n",
       "      <td>1073154D</td>\n",
       "      <td>2.0</td>\n",
       "      <td>False</td>\n",
       "      <td>NaN</td>\n",
       "      <td>59</td>\n",
       "      <td>3900.449168</td>\n",
       "      <td>True</td>\n",
       "      <td>True</td>\n",
       "      <td>True</td>\n",
       "      <td>True</td>\n",
       "      <td>True</td>\n",
       "      <td>True</td>\n",
       "      <td>False</td>\n",
       "      <td>False</td>\n",
       "      <td>0</td>\n",
       "      <td>0</td>\n",
       "      <td>1</td>\n",
       "      <td>1</td>\n",
       "      <td>0</td>\n",
       "      <td>0</td>\n",
       "      <td>0</td>\n",
       "      <td>0</td>\n",
       "      <td>0</td>\n",
       "      <td>0</td>\n",
       "      <td>0</td>\n",
       "      <td>1</td>\n",
       "      <td>0</td>\n",
       "      <td>600.0</td>\n",
       "      <td>3900</td>\n",
       "      <td>975.0</td>\n",
       "      <td>193.750000</td>\n",
       "      <td>0.240079</td>\n",
       "      <td>1.000115</td>\n",
       "      <td>11</td>\n",
       "      <td>7</td>\n",
       "      <td>0.280000</td>\n",
       "      <td>True</td>\n",
       "      <td>0</td>\n",
       "      <td>0</td>\n",
       "      <td>0</td>\n",
       "      <td>0</td>\n",
       "      <td>0</td>\n",
       "      <td>1</td>\n",
       "      <td>0</td>\n",
       "      <td>-1.049366</td>\n",
       "    </tr>\n",
       "    <tr>\n",
       "      <th>166</th>\n",
       "      <td>111514</td>\n",
       "      <td>Delicious Fluffy Pancakes</td>\n",
       "      <td>1500</td>\n",
       "      <td>300</td>\n",
       "      <td>1 1/2, 1 1/2, 1, 1 1/4, 3, 1, 2</td>\n",
       "      <td>flour, baking powder, salt, milk, butter, egg,...</td>\n",
       "      <td>170.6</td>\n",
       "      <td>6.6</td>\n",
       "      <td>3.8</td>\n",
       "      <td>43.2</td>\n",
       "      <td>553.5</td>\n",
       "      <td>23.5</td>\n",
       "      <td>0.6</td>\n",
       "      <td>3.3</td>\n",
       "      <td>4.5</td>\n",
       "      <td>1.0</td>\n",
       "      <td>8 pancakes</td>\n",
       "      <td>[Vegetarian, Vegetarian, Vegan, Vegetarian, Ve...</td>\n",
       "      <td>1073154D</td>\n",
       "      <td>2.0</td>\n",
       "      <td>False</td>\n",
       "      <td>NaN</td>\n",
       "      <td>59</td>\n",
       "      <td>1800.542375</td>\n",
       "      <td>True</td>\n",
       "      <td>True</td>\n",
       "      <td>False</td>\n",
       "      <td>True</td>\n",
       "      <td>False</td>\n",
       "      <td>True</td>\n",
       "      <td>False</td>\n",
       "      <td>False</td>\n",
       "      <td>0</td>\n",
       "      <td>0</td>\n",
       "      <td>1</td>\n",
       "      <td>1</td>\n",
       "      <td>0</td>\n",
       "      <td>0</td>\n",
       "      <td>0</td>\n",
       "      <td>0</td>\n",
       "      <td>1</td>\n",
       "      <td>0</td>\n",
       "      <td>0</td>\n",
       "      <td>0</td>\n",
       "      <td>0</td>\n",
       "      <td>1500.0</td>\n",
       "      <td>1800</td>\n",
       "      <td>1800.0</td>\n",
       "      <td>170.600000</td>\n",
       "      <td>0.681818</td>\n",
       "      <td>1.000301</td>\n",
       "      <td>7</td>\n",
       "      <td>9</td>\n",
       "      <td>0.290323</td>\n",
       "      <td>True</td>\n",
       "      <td>0</td>\n",
       "      <td>0</td>\n",
       "      <td>0</td>\n",
       "      <td>0</td>\n",
       "      <td>0</td>\n",
       "      <td>1</td>\n",
       "      <td>0</td>\n",
       "      <td>-1.048844</td>\n",
       "    </tr>\n",
       "    <tr>\n",
       "      <th>167</th>\n",
       "      <td>8782</td>\n",
       "      <td>Garden Chicken</td>\n",
       "      <td>2100</td>\n",
       "      <td>1500</td>\n",
       "      <td>4, 1, 5, 1, 1, 1, 4, 1, 1/2, 1/2, 2, 1, 1, 1, 1/3</td>\n",
       "      <td>boneless skinless chicken breast halves, garli...</td>\n",
       "      <td>436.2</td>\n",
       "      <td>19.1</td>\n",
       "      <td>10.6</td>\n",
       "      <td>95.6</td>\n",
       "      <td>501.4</td>\n",
       "      <td>37.3</td>\n",
       "      <td>2.2</td>\n",
       "      <td>3.2</td>\n",
       "      <td>27.8</td>\n",
       "      <td>6.0</td>\n",
       "      <td>1 casserole</td>\n",
       "      <td>[Omnivore, Vegetarian, Vegetarian, Vegetarian,...</td>\n",
       "      <td>1073154D</td>\n",
       "      <td>NaN</td>\n",
       "      <td>False</td>\n",
       "      <td>NaN</td>\n",
       "      <td>59</td>\n",
       "      <td>3601.194876</td>\n",
       "      <td>True</td>\n",
       "      <td>True</td>\n",
       "      <td>False</td>\n",
       "      <td>True</td>\n",
       "      <td>True</td>\n",
       "      <td>False</td>\n",
       "      <td>False</td>\n",
       "      <td>False</td>\n",
       "      <td>0</td>\n",
       "      <td>0</td>\n",
       "      <td>1</td>\n",
       "      <td>1</td>\n",
       "      <td>0</td>\n",
       "      <td>0</td>\n",
       "      <td>0</td>\n",
       "      <td>0</td>\n",
       "      <td>0</td>\n",
       "      <td>0</td>\n",
       "      <td>0</td>\n",
       "      <td>1</td>\n",
       "      <td>0</td>\n",
       "      <td>350.0</td>\n",
       "      <td>3600</td>\n",
       "      <td>600.0</td>\n",
       "      <td>72.700000</td>\n",
       "      <td>1.455497</td>\n",
       "      <td>1.000332</td>\n",
       "      <td>13</td>\n",
       "      <td>20</td>\n",
       "      <td>0.606061</td>\n",
       "      <td>True</td>\n",
       "      <td>0</td>\n",
       "      <td>0</td>\n",
       "      <td>0</td>\n",
       "      <td>0</td>\n",
       "      <td>0</td>\n",
       "      <td>1</td>\n",
       "      <td>0</td>\n",
       "      <td>-0.952657</td>\n",
       "    </tr>\n",
       "  </tbody>\n",
       "</table>\n",
       "</div>"
      ],
      "text/plain": [
       "     RecipeId                          Name  CookTime  PrepTime  \\\n",
       "163     73440  Bow Ties With Broccoli Pesto         0      1800   \n",
       "164    214973   Carne Guisada (Stewed Beef)      3000      1200   \n",
       "165     87925          Veggie Puff Pastries      2400      1500   \n",
       "166    111514     Delicious Fluffy Pancakes      1500       300   \n",
       "167      8782                Garden Chicken      2100      1500   \n",
       "\n",
       "                            RecipeIngredientQuantities  \\\n",
       "163      6, 2, 1 1/2, 1/4, 1/2, 4, 1 1/2, 1 1/2, 5, 12   \n",
       "164           2, 1, 1, 2, 1, 1, 1, 1, 1, 1, 2, 1, 2, 1   \n",
       "165              1, 1, 1/2, 3 1/2, 2, 1, 1, 2, 1, 1, 1   \n",
       "166                    1 1/2, 1 1/2, 1, 1 1/4, 3, 1, 2   \n",
       "167  4, 1, 5, 1, 1, 1, 4, 1, 1/2, 1/2, 2, 1, 1, 1, 1/3   \n",
       "\n",
       "                                 RecipeIngredientParts  Calories  FatContent  \\\n",
       "163  hazelnuts, broccoli florets, fresh parsley lea...     241.3        10.1   \n",
       "164  beef round steak, onion, green pepper, garlic ...     331.6        18.9   \n",
       "165  puff pastry, egg, sweet potato, asparagus spea...     775.0        50.4   \n",
       "166  flour, baking powder, salt, milk, butter, egg,...     170.6         6.6   \n",
       "167  boneless skinless chicken breast halves, garli...     436.2        19.1   \n",
       "\n",
       "     SaturatedFatContent  CholesterolContent  SodiumContent  \\\n",
       "163                  1.2                 0.0           13.1   \n",
       "164                  6.2                92.3          235.8   \n",
       "165                 15.0                68.1          405.1   \n",
       "166                  3.8                43.2          553.5   \n",
       "167                 10.6                95.6          501.4   \n",
       "\n",
       "     CarbohydrateContent  FiberContent  SugarContent  ProteinContent  \\\n",
       "163                 31.8           2.3           1.4             6.7   \n",
       "164                  5.7           1.4           2.6            33.4   \n",
       "165                 69.8           5.0           6.1            12.1   \n",
       "166                 23.5           0.6           3.3             4.5   \n",
       "167                 37.3           2.2           3.2            27.8   \n",
       "\n",
       "     RecipeServings  RecipeYield  \\\n",
       "163             9.0          NaN   \n",
       "164             1.0          NaN   \n",
       "165             4.0          NaN   \n",
       "166             1.0   8 pancakes   \n",
       "167             6.0  1 casserole   \n",
       "\n",
       "                                        DietIngredient  AuthorId  Rating  \\\n",
       "163  [Vegan, Vegan, Vegan, Vegan, Vegan, Vegan, Veg...  1073154D     2.0   \n",
       "164  [Omnivore, Vegetarian, Vegetarian, Vegan, Vege...  1073154D     2.0   \n",
       "165  [Vegetarian, Omnivore, Vegan, Vegan, Vegetaria...  1073154D     2.0   \n",
       "166  [Vegetarian, Vegetarian, Vegan, Vegetarian, Ve...  1073154D     2.0   \n",
       "167  [Omnivore, Vegetarian, Vegetarian, Vegetarian,...  1073154D     NaN   \n",
       "\n",
       "      Like  TestSetId  Age         Time  HighCalories  HighProtein  LowFat  \\\n",
       "163  False        NaN   59  1799.844169         False         True    True   \n",
       "164  False        NaN   59  4200.065436          True         True   False   \n",
       "165  False        NaN   59  3900.449168          True         True    True   \n",
       "166  False        NaN   59  1800.542375          True         True   False   \n",
       "167  False        NaN   59  3601.194876          True         True   False   \n",
       "\n",
       "     LowSugar  HighFiber  Rated  MatchesDiet  DietCompatible  Diet_Omnivore  \\\n",
       "163      True       True   True         True            True              0   \n",
       "164      True      False   True        False           False              0   \n",
       "165      True       True   True        False           False              0   \n",
       "166      True      False   True        False           False              0   \n",
       "167      True       True  False        False           False              0   \n",
       "\n",
       "     Diet_Vegan  Diet_Vegetarian  DietRecipe_Omnivore  DietRecipe_Vegan  \\\n",
       "163           0                1                    0                 0   \n",
       "164           0                1                    1                 0   \n",
       "165           0                1                    1                 0   \n",
       "166           0                1                    1                 0   \n",
       "167           0                1                    1                 0   \n",
       "\n",
       "     DietRecipe_Vegetarian  RecipeCategory_Beverages  RecipeCategory_Bread  \\\n",
       "163                      1                         0                     0   \n",
       "164                      0                         0                     0   \n",
       "165                      0                         0                     0   \n",
       "166                      0                         0                     0   \n",
       "167                      0                         0                     0   \n",
       "\n",
       "     RecipeCategory_Breakfast  RecipeCategory_Lunch  \\\n",
       "163                         0                     0   \n",
       "164                         0                     0   \n",
       "165                         0                     0   \n",
       "166                         1                     0   \n",
       "167                         0                     0   \n",
       "\n",
       "     RecipeCategory_One dish meal  RecipeCategory_Other  RecipeCategory_Soup  \\\n",
       "163                             0                     1                    0   \n",
       "164                             0                     1                    0   \n",
       "165                             0                     1                    0   \n",
       "166                             0                     0                    0   \n",
       "167                             0                     1                    0   \n",
       "\n",
       "     TimePerServing  TotalTime  TotalTimePerServing  CaloriesPerServing  \\\n",
       "163             0.0       1800                200.0           26.811111   \n",
       "164          3000.0       4200               4200.0          331.600000   \n",
       "165           600.0       3900                975.0          193.750000   \n",
       "166          1500.0       1800               1800.0          170.600000   \n",
       "167           350.0       3600                600.0           72.700000   \n",
       "\n",
       "     ProteinFatRatio  RequestedTimeRatio  NumberIngredients  RecipePopularity  \\\n",
       "163         0.663366            0.999913                 10                46   \n",
       "164         1.767196            1.000016                 13                 1   \n",
       "165         0.240079            1.000115                 11                 7   \n",
       "166         0.681818            1.000301                  7                 9   \n",
       "167         1.455497            1.000332                 13                20   \n",
       "\n",
       "     AvgRecipePopularity  isInTime  AgeGroup_0-18  AgeGroup_19-24  \\\n",
       "163             0.422018     False              0               0   \n",
       "164             0.500000      True              0               0   \n",
       "165             0.280000      True              0               0   \n",
       "166             0.290323      True              0               0   \n",
       "167             0.606061      True              0               0   \n",
       "\n",
       "     AgeGroup_25-34  AgeGroup_35-44  AgeGroup_45-54  AgeGroup_55-64  \\\n",
       "163               0               0               0               1   \n",
       "164               0               0               0               1   \n",
       "165               0               0               0               1   \n",
       "166               0               0               0               1   \n",
       "167               0               0               0               1   \n",
       "\n",
       "     AgeGroup_65+   Outlier  \n",
       "163             0 -0.996857  \n",
       "164             0 -1.033010  \n",
       "165             0 -1.049366  \n",
       "166             0 -1.048844  \n",
       "167             0 -0.952657  "
      ]
     },
     "execution_count": 213,
     "metadata": {},
     "output_type": "execute_result"
    }
   ],
   "source": [
    "train_all = train_all[train_all['Outlier'] >= threshold]\n",
    "print(len(train_all))\n",
    "train_all.head()"
   ]
  },
  {
   "cell_type": "code",
   "execution_count": 214,
   "metadata": {},
   "outputs": [
    {
     "name": "stdout",
     "output_type": "stream",
     "text": [
      "Like\n",
      "False    84456\n",
      "True     12873\n",
      "dtype: int64\n"
     ]
    }
   ],
   "source": [
    "print(train_all.groupby(\"Like\").size())"
   ]
  },
  {
   "cell_type": "markdown",
   "metadata": {},
   "source": [
    "The class labels are uneven distributed. Therefore, we sample only a part of the False Like labels"
   ]
  },
  {
   "cell_type": "code",
   "execution_count": 215,
   "metadata": {},
   "outputs": [
    {
     "name": "stdout",
     "output_type": "stream",
     "text": [
      "153248\n",
      "Like\n",
      "False    76010\n",
      "True     77238\n",
      "dtype: int64\n"
     ]
    }
   ],
   "source": [
    "false_sample = train_all[train_all['Like'] == False].sample(frac=0.9, random_state=1)\n",
    "true_sample = train_all[train_all['Like'] == True]\n",
    "true_sample = pd.concat([true_sample] * 6)\n",
    "\n",
    "train_all = pd.concat([false_sample, true_sample])\n",
    "print(len(train_all))\n",
    "print(train_all.groupby(\"Like\").size())\n",
    "\n"
   ]
  },
  {
   "cell_type": "code",
   "execution_count": 216,
   "metadata": {},
   "outputs": [
    {
     "name": "stdout",
     "output_type": "stream",
     "text": [
      "Like\n",
      "False    64601\n",
      "True     60948\n",
      "dtype: int64\n"
     ]
    }
   ],
   "source": [
    "print(train_all[train_all['Diet_Vegetarian'] == True].groupby(\"Like\").size())"
   ]
  },
  {
   "cell_type": "code",
   "execution_count": 224,
   "metadata": {},
   "outputs": [
    {
     "data": {
      "text/plain": [
       "' print(pd.DataFrame(y_train, columns=[\\'Like\\']).groupby(\"Like\").size())\\nsmote = SMOTE(random_state=42)\\nX_train, y_train = smote.fit_resample(X_train, y_train)\\n\\nprint(pd.DataFrame(y_train, columns=[\\'Like\\']).groupby(\"Like\").size()) '"
      ]
     },
     "execution_count": 224,
     "metadata": {},
     "output_type": "execute_result"
    }
   ],
   "source": [
    "from sklearn.model_selection import train_test_split\n",
    "from imblearn.over_sampling import SMOTE\n",
    "\n",
    "\n",
    "\"\"\" \n",
    "\n",
    "\"\"\"\n",
    "\n",
    "X_cols = [\n",
    " 'CookTime',\n",
    " 'PrepTime',\n",
    " 'Calories',\n",
    " 'FatContent',\n",
    " 'SaturatedFatContent',\n",
    " 'CholesterolContent',\n",
    " 'SodiumContent',\n",
    " 'CarbohydrateContent',\n",
    " 'FiberContent',\n",
    " 'SugarContent',\n",
    " 'ProteinContent',\n",
    " 'Age',\n",
    " 'Time',\n",
    " 'HighCalories',\n",
    " 'HighProtein',\n",
    " 'LowFat',\n",
    " 'LowSugar',\n",
    " 'HighFiber',\n",
    " 'Rated',\n",
    "\n",
    " 'MatchesDiet',\n",
    " 'DietCompatible',\n",
    " \n",
    " 'AgeGroup_0-18', \n",
    " 'AgeGroup_19-24', \n",
    " 'AgeGroup_25-34', \n",
    " 'AgeGroup_35-44', \n",
    " 'AgeGroup_45-54', \n",
    " 'AgeGroup_55-64', \n",
    " 'AgeGroup_65+',\n",
    "\n",
    "  'Diet_Omnivore',\n",
    " 'Diet_Vegan',\n",
    " 'Diet_Vegetarian',\n",
    " 'DietRecipe_Omnivore',\n",
    " 'DietRecipe_Vegan',\n",
    " 'DietRecipe_Vegetarian',\n",
    " 'RecipeCategory_Beverages',\n",
    " 'RecipeCategory_Bread',\n",
    " 'RecipeCategory_Breakfast',\n",
    " 'RecipeCategory_Lunch',\n",
    " 'RecipeCategory_One dish meal',\n",
    " 'RecipeCategory_Other',\n",
    " 'RecipeCategory_Soup',\n",
    "\n",
    " 'NumberIngredients',\n",
    "\n",
    " 'RecipePopularity',\n",
    "\n",
    " 'AvgRecipePopularity',\n",
    "\n",
    "\n",
    "\n",
    " 'TimePerServing','TotalTime','TotalTimePerServing','CaloriesPerServing','ProteinFatRatio','RequestedTimeRatio'\n",
    " ]\n",
    "\n",
    "X = train_all[X_cols]\n",
    "y = train_all['Like']\n",
    "X_train, X_val, y_train, y_val = train_test_split(X, y, test_size=0.33, random_state=42, stratify = y)\n",
    "\"\"\" print(pd.DataFrame(y_train, columns=['Like']).groupby(\"Like\").size())\n",
    "smote = SMOTE(random_state=42)\n",
    "X_train, y_train = smote.fit_resample(X_train, y_train)\n",
    "\n",
    "print(pd.DataFrame(y_train, columns=['Like']).groupby(\"Like\").size()) \"\"\"\n"
   ]
  },
  {
   "cell_type": "code",
   "execution_count": 225,
   "metadata": {},
   "outputs": [
    {
     "name": "stdout",
     "output_type": "stream",
     "text": [
      "              precision    recall  f1-score   support\n",
      "\n",
      "       False       1.00      0.94      0.97     25083\n",
      "        True       0.94      1.00      0.97     25489\n",
      "\n",
      "    accuracy                           0.97     50572\n",
      "   macro avg       0.97      0.97      0.97     50572\n",
      "weighted avg       0.97      0.97      0.97     50572\n",
      "\n",
      "0.9671766192750719\n"
     ]
    }
   ],
   "source": [
    "from sklearn import tree\n",
    "from sklearn.metrics import classification_report\n",
    "from sklearn.metrics import balanced_accuracy_score\n",
    "clf = tree.DecisionTreeClassifier()\n",
    "clf = clf.fit(X_train, y_train)\n",
    "y_pred = clf.predict(X_val)\n",
    "\n",
    "\n",
    "print(classification_report(y_val, y_pred))\n",
    "print(balanced_accuracy_score(y_val, y_pred))"
   ]
  },
  {
   "cell_type": "code",
   "execution_count": 226,
   "metadata": {},
   "outputs": [
    {
     "name": "stdout",
     "output_type": "stream",
     "text": [
      "              precision    recall  f1-score   support\n",
      "\n",
      "       False       0.93      0.80      0.86     25083\n",
      "        True       0.82      0.94      0.88     25489\n",
      "\n",
      "    accuracy                           0.87     50572\n",
      "   macro avg       0.88      0.87      0.87     50572\n",
      "weighted avg       0.88      0.87      0.87     50572\n",
      "\n",
      "0.8691706139094217\n"
     ]
    }
   ],
   "source": [
    "from sklearn.ensemble import RandomForestClassifier\n",
    "from sklearn.metrics import classification_report\n",
    "from sklearn.metrics import balanced_accuracy_score\n",
    "clf = RandomForestClassifier(max_depth=5, random_state=0)\n",
    "clf = clf.fit(X_train, y_train)\n",
    "y_pred = clf.predict(X_val)\n",
    "\n",
    "\n",
    "print(classification_report(y_val, y_pred))\n",
    "print(balanced_accuracy_score(y_val, y_pred))"
   ]
  },
  {
   "cell_type": "code",
   "execution_count": 227,
   "metadata": {},
   "outputs": [
    {
     "name": "stdout",
     "output_type": "stream",
     "text": [
      "              precision    recall  f1-score   support\n",
      "\n",
      "       False       0.97      0.91      0.94     25083\n",
      "        True       0.92      0.97      0.94     25489\n",
      "\n",
      "    accuracy                           0.94     50572\n",
      "   macro avg       0.94      0.94      0.94     50572\n",
      "weighted avg       0.94      0.94      0.94     50572\n",
      "\n",
      "0.9413489394190455\n"
     ]
    }
   ],
   "source": [
    "import xgboost as xgb\n",
    "from sklearn.metrics import classification_report\n",
    "from sklearn.metrics import balanced_accuracy_score\n",
    "\n",
    "\n",
    "#Creating an XGBoost classifier\n",
    "model = xgb.XGBClassifier()\n",
    "\n",
    "#Training the model on the training data\n",
    "model.fit(X_train, y_train)\n",
    "\n",
    "#Making predictions on the test set\n",
    "predictions = model.predict(X_val)\n",
    "\n",
    "print(classification_report(y_val, predictions))\n",
    "print(balanced_accuracy_score(y_val, predictions))\n",
    "\n",
    "#0.9413489394190455"
   ]
  },
  {
   "cell_type": "code",
   "execution_count": 228,
   "metadata": {},
   "outputs": [
    {
     "data": {
      "text/plain": [
       "<Axes: title={'center': 'Feature importance'}, xlabel='F score', ylabel='Features'>"
      ]
     },
     "execution_count": 228,
     "metadata": {},
     "output_type": "execute_result"
    },
    {
     "data": {
      "image/png": "[encoded data removed]",
      "text/plain": [
       "<Figure size 640x480 with 1 Axes>"
      ]
     },
     "metadata": {},
     "output_type": "display_data"
    }
   ],
   "source": [
    "xgb.plot_importance(model, max_num_features = 30)"
   ]
  }
 ],
 "metadata": {
  "kernelspec": {
   "display_name": "Python 3 (ipykernel)",
   "language": "python",
   "name": "python3"
  },
  "language_info": {
   "codemirror_mode": {
    "name": "ipython",
    "version": 3
   },
   "file_extension": ".py",
   "mimetype": "text/x-python",
   "name": "python",
   "nbconvert_exporter": "python",
   "pygments_lexer": "ipython3",
   "version": "3.10.13"
  }
 },
 "nbformat": 4,
 "nbformat_minor": 2
}
